{
 "cells": [
  {
   "cell_type": "markdown",
   "metadata": {},
   "source": [
    "I) Loading text and preprocessing it"
   ]
  },
  {
   "cell_type": "code",
   "execution_count": 11,
   "metadata": {},
   "outputs": [
    {
     "name": "stdout",
     "output_type": "stream",
     "text": [
      "['morocco', 'and', 'marrakech', 'tapestry', 'of', 'tradition', 'and', 'modernity', 'morocco', 'located', 'at', 'the', 'crossroads', 'of', 'europe', 'and', 'africa', 'is', 'country', 'drenched', 'in', 'history', 'mystery', 'and', 'cultural', 'richness', 'testament', 'to', 'the', 'ancient', 'civilizations', 'that', 'once', 'flourished', 'here', 'this', 'north', 'african', 'kingdom', 'boasts', 'unique', 'blend', 'of', 'arab', 'berber', 'and', 'european', 'influences', 'at', 'the', 'heart', 'of', 'morocco', 'rich', 'tapestry', 'lies', 'marrakech', 'one', 'of', 'its', 'four', 'imperial', 'cities', 'and', 'vibrant', 'epicenter', 'of', 'tradition', 'and', 'modernity', 'geographical', 'significance', 'morocco', 'is', 'bordered', 'by', 'the', 'atlantic', 'ocean', 'to', 'the', 'west', 'the', 'mediterranean', 'sea', 'to', 'the', 'north', 'algeria', 'to', 'the', 'east', 'and', 'southeast', 'and', 'the', 'vast', 'sahara', 'desert', 'to', 'the', 'south', 'its', 'strategic', 'location', 'has', 'historically', 'made', 'it', 'sought', 'after', 'territory', 'and', 'melting', 'pot', 'of', 'cultures', 'religions', 'and', 'trade', 'routes', 'marrakech', 'the', 'red', 'city', 'marrakech', 'often', 'referred', 'to', 'as', 'the', 'red', 'city', 'due', 'to', 'its', 'distinctive', 'red', 'hued', 'buildings', 'stands', 'against', 'the', 'backdrop', 'of', 'the', 'snow', 'capped', 'atlas', 'mountains', 'established', 'in', 'the', 'th', 'century', 'it', 'has', 'remained', 'crucial', 'political', 'economic', 'and', 'cultural', 'center', 'of', 'morocco', 'journey', 'through', 'the', 'medina', 'marrakech', 'old', 'town', 'the', 'medina', 'is', 'unesco', 'world', 'heritage', 'site', 'and', 'labyrinthine', 'maze', 'of', 'narrow', 'alleys', 'bustling', 'souks', 'and', 'historical', 'landmarks', 'the', 'djemaa', 'el', 'fna', 'square', 'lies', 'at', 'the', 'heart', 'of', 'the', 'medina', 'and', 'comes', 'alive', 'every', 'evening', 'with', 'storytellers', 'musicians', 'snake', 'charmers', 'and', 'food', 'stalls', 'offering', 'tantalizing', 'moroccan', 'delicacies', 'palaces', 'and', 'gardens', 'the', 'city', 'is', 'also', 'home', 'to', 'grand', 'palaces', 'like', 'the', 'bahia', 'palace', 'showcasing', 'intricate', 'islamic', 'architecture', 'and', 'the', 'saadian', 'tombs', 'remnants', 'of', 'the', 'saadian', 'dynasty', 'the', 'majorelle', 'garden', 'restored', 'by', 'the', 'fashion', 'designer', 'yves', 'saint', 'laurent', 'is', 'tranquil', 'oasis', 'of', 'cacti', 'palm', 'trees', 'and', 'cobalt', 'blue', 'accents', 'modern', 'marrakech', 'while', 'tradition', 'and', 'history', 'permeate', 'marrakech', 'the', 'city', 'is', 'not', 'averse', 'to', 'the', 'modern', 'world', 'gueliz', 'the', 'new', 'town', 'is', 'brimming', 'with', 'contemporary', 'art', 'galleries', 'stylish', 'cafes', 'and', 'chic', 'boutiques', 'offering', 'stark', 'contrast', 'to', 'the', 'ancient', 'medina', 'moroccan', 'cuisine', 'no', 'journey', 'through', 'morocco', 'and', 'marrakech', 'would', 'be', 'complete', 'without', 'indulging', 'in', 'the', 'local', 'cuisine', 'tagines', 'couscous', 'and', 'pastilla', 'are', 'just', 'few', 'of', 'the', 'many', 'dishes', 'that', 'combine', 'plethora', 'of', 'flavors', 'and', 'spices', 'like', 'saffron', 'cumin', 'and', 'mint', 'paired', 'with', 'moroccan', 'mint', 'tea', 'the', 'culinary', 'experience', 'is', 'truly', 'unparalleled', 'in', 'conclusion', 'morocco', 'with', 'marrakech', 'at', 'its', 'heart', 'offers', 'travelers', 'an', 'unparalleled', 'journey', 'through', 'time', 'the', 'convergence', 'of', 'history', 'culture', 'architecture', 'and', 'gastronomy', 'makes', 'it', 'an', 'enthralling', 'destination', 'for', 'those', 'seeking', 'both', 'adventure', 'and', 'reflection', 'as', 'the', 'moroccan', 'proverb', 'goes', 'he', 'who', 'does', 'not', 'travel', 'does', 'not', 'know', 'the', 'value', 'of', 'men', 'in', 'the', 'case', 'of', 'morocco', 'and', 'marrakech', 'it', 'not', 'just', 'the', 'value', 'of', 'men', 'but', 'also', 'the', 'value', 'of', 'time', 'tradition', 'and', 'tales', 'that', 'have', 'spanned', 'centuries']\n"
     ]
    }
   ],
   "source": [
    "from gensim.utils import simple_preprocess\n",
    "\n",
    "with open('./text', 'r') as file: \n",
    "    content = file.read()\n",
    "\n",
    "tokens = simple_preprocess(content) # Performs lower casing text, and tokenizing it into words\n",
    "\n",
    "print(tokens)"
   ]
  },
  {
   "cell_type": "markdown",
   "metadata": {},
   "source": [
    "II) Word2Vec model creation & training\n",
    "\n",
    "III) Vectorial representation extraction (of a word)"
   ]
  },
  {
   "cell_type": "code",
   "execution_count": 12,
   "metadata": {},
   "outputs": [
    {
     "name": "stdout",
     "output_type": "stream",
     "text": [
      "[ 7.15501700e-03 -2.26053846e-04  5.81676885e-03 -9.00832005e-03\n",
      "  7.31976004e-04 -4.65204148e-03  1.04327640e-03  2.66102399e-03\n",
      "  9.45678726e-03  5.73837385e-03  3.07697197e-03 -6.83627697e-03\n",
      "  6.86119683e-03 -5.25413174e-03 -3.02791665e-03 -1.98666076e-03\n",
      " -2.22545234e-03 -5.09377383e-03  6.93062413e-03  4.88746678e-03\n",
      "  7.33957640e-05  1.21252076e-03 -3.19570513e-03 -5.77849150e-03\n",
      " -4.99767577e-03 -6.76846030e-05 -8.37225281e-03 -6.07777583e-05\n",
      "  2.78886687e-03 -4.50139074e-03  4.35087224e-03  2.13767332e-03\n",
      "  1.11611711e-03  5.15793031e-03  5.28235687e-04 -4.74359421e-03\n",
      "  4.10419656e-03 -4.75682830e-03  8.40304513e-03 -8.02611187e-03\n",
      "  3.53088696e-03 -4.32773074e-03 -9.04276792e-04  5.59440441e-03\n",
      "  9.18012578e-03  4.92417067e-03  5.84045053e-03  8.48361943e-03\n",
      "  3.96723952e-03 -1.77820539e-03 -2.02591415e-03 -8.23051855e-03\n",
      "  8.22846312e-04 -6.70622010e-03  3.98282567e-03  9.79093020e-04\n",
      "  7.02203810e-03 -7.95924291e-03 -7.18547963e-03  4.34139417e-03\n",
      "  1.83731481e-03 -4.09613503e-03  2.29302607e-03 -9.32048890e-04\n",
      "  5.38728898e-03 -1.39028823e-03  3.46182799e-03 -1.72757125e-03\n",
      "  4.24834434e-03  7.35213608e-03 -5.16295573e-03 -8.91387463e-03\n",
      " -3.11311032e-03  7.29723321e-03 -5.64699108e-03 -7.57464068e-03\n",
      "  5.52873267e-03 -7.77438655e-03 -6.41509658e-03 -5.72605804e-03\n",
      " -3.89712071e-03  7.39481673e-03 -6.39656885e-03  1.03522455e-02\n",
      "  9.12025478e-03 -6.66497881e-03  6.41247304e-03  1.73066033e-03\n",
      "  4.77705291e-03  1.30823394e-03  6.11294387e-03 -5.36601339e-03\n",
      "  5.21467347e-03  5.07135410e-03  8.28872435e-03 -1.03587678e-04\n",
      " -4.94703231e-03 -5.37445210e-03 -1.63074012e-03 -5.14565455e-03]\n"
     ]
    }
   ],
   "source": [
    "from gensim.models import Word2Vec\n",
    "\n",
    "# II)***************************************************************************\n",
    "model = Word2Vec([tokens], vector_size = 100, window = 5, min_count = 1, sg = 1)\n",
    "# tokens: input data for training the model\n",
    "# vector_size -> d(hyper-param) = 100\n",
    "# window -> m(hyper param) = 5 words of context before and after the center word\n",
    "# min_count: the minimum frequency of a word that is included in the vocabulary\n",
    "# sg: type of algorithm used for training, 1 for SKIP-GRAM model, 0 for CBOW\n",
    "\n",
    "# III)***************************************************************************\n",
    "vector = model.wv[\"flourished\"]\n",
    "print(vector)"
   ]
  },
  {
   "cell_type": "markdown",
   "metadata": {},
   "source": [
    "IV) Calculate the similarity between two words"
   ]
  },
  {
   "cell_type": "code",
   "execution_count": 13,
   "metadata": {},
   "outputs": [
    {
     "name": "stdout",
     "output_type": "stream",
     "text": [
      "0.0459574\n"
     ]
    }
   ],
   "source": [
    "# comparing the cos similarity between the two vectors\n",
    "similarity = model.wv.similarity(\"morocco\", \"tradition\") # the score is between -1 & 1.\n",
    "print(similarity) # dissimilarity if it's close to -1, no similarity if it's close to 0, similarity if it's close to 1"
   ]
  },
  {
   "cell_type": "markdown",
   "metadata": {},
   "source": [
    "V) Extract contextuel words for a central one"
   ]
  },
  {
   "cell_type": "code",
   "execution_count": 14,
   "metadata": {},
   "outputs": [
    {
     "name": "stdout",
     "output_type": "stream",
     "text": [
      "[('comes', 0.35773995518684387), ('snow', 0.33594006299972534), ('mountains', 0.3202439248561859), ('moroccan', 0.2772573232650757), ('against', 0.2763691246509552)]\n"
     ]
    }
   ],
   "source": [
    "context_words = model.wv.most_similar(\"morocco\", topn = 5) # extract the 5 most similar words\n",
    "print(context_words)"
   ]
  }
 ],
 "metadata": {
  "kernelspec": {
   "display_name": "base",
   "language": "python",
   "name": "python3"
  },
  "language_info": {
   "codemirror_mode": {
    "name": "ipython",
    "version": 3
   },
   "file_extension": ".py",
   "mimetype": "text/x-python",
   "name": "python",
   "nbconvert_exporter": "python",
   "pygments_lexer": "ipython3",
   "version": "3.11.5"
  }
 },
 "nbformat": 4,
 "nbformat_minor": 2
}
